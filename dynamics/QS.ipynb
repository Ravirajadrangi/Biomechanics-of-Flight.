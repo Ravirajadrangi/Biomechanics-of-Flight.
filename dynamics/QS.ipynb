{
 "cells": [
  {
   "cell_type": "markdown",
   "metadata": {},
   "source": [
    "# I - Steady Flight : Quasi-Steady Model\n",
    "> _If you cannot see the HTML rendering (e.g. colors), view this notebook [here](https://nbviewer.jupyter.org/github/Mipanox/ME303/blob/master/dynamics/QS.ipynb)_"
   ]
  },
  {
   "cell_type": "markdown",
   "metadata": {},
   "source": [
    "## <font color=\"blue\">Equations</font>\n",
    "### <font color=\"green\">Forces</font>\n",
    "Quasi-Steady model - Decompose the aerodynamic force linearly into the following components:\n",
    "<br><br>\n",
    "(1) Translational lift force\n",
    "<br><br>\n",
    "$\n",
    "\\;\\;\\;\\;\\mathbf{F_l} \\equiv \\sum_e\\frac{1}{2}\\rho c\\left \\| \\mathbf{u_e} \\right \\|^2C_L(\\alpha)\\delta r\n",
    "$\n",
    "<br><br>\n",
    "(2) Translational drag force\n",
    "<br><br>\n",
    "$\n",
    "\\;\\;\\;\\;\\mathbf{F_d} \\equiv \\sum_e\\frac{1}{2}\\rho c\\left \\| \\mathbf{u_e} \\right \\|^2C_D(\\alpha)\\delta r\n",
    "$\n",
    "<br><br>\n",
    "<font color=\"grey\">(3) Rotational force\n",
    "<br><br>\n",
    "$\n",
    "\\;\\;\\;\\;\\mathbf{F_r} \\equiv \\sum_eC_R\\rho\\dot{\\alpha}c^2\\left \\| \\mathbf{u_e} \\right \\|\\delta r\n",
    "$\n",
    "<br><br>\n",
    "(4) Added mass force\n",
    "<br><br>\n",
    "$\n",
    "\\;\\;\\;\\;\\mathbf{F_a} \\equiv \\sum_e\\frac{\\rho\\pi c^2}{4}\\left \\{ \\frac{\\mathbf{u_e}\\dot{\\mathbf{u_e}}}{\\left \\| \\mathbf{u_e} \\right \\|}\\sin\\alpha + \\left \\| \\mathbf{u_e} \\right \\|\\dot{\\alpha}\\cos\\alpha \\right \\}\\delta r\n",
    "$</font>\n",
    "\n",
    "<br><br>\n",
    "\n",
    "where a subscript $e$ stands for element of the wing, $\\rho$ is the air density, $c$ the chord length of each element at a given radius $r$, and the integrals are approximated by summation over element width $\\delta r$.\n",
    "<br><br>\n",
    "The aerodynamic parameters are: $C_L$, $C_D$ and $C_R$ being the lift, drag and rotational force coefficients, and $\\alpha$ is the effective angle of attack for each element.\n",
    "The harmonic equations for the lift and drag coefficients are adapted from the hummingbird data (Kruyt _et al._ [2014](http://rsif.royalsocietypublishing.org/content/11/99/20140585)). The lift coefficients are scaled up twice due to the (roughly) 2 times larger lift coefficients observed in pigeons (Usherwood [2009](http://link.springer.com/article/10.1007%2Fs00348-008-0596-z)), which are more similar in size to our birds:\n",
    "<br><br>\n",
    "$\n",
    "\\;\\;\\alpha < 0:\n",
    "$\n",
    "<br>\n",
    "$\n",
    "\\;\\;\\;\\;C_L(\\alpha) = 0.0056 + 2.2502\\cos(0.0332\\alpha+4.6963)\n",
    "$\n",
    "<br>\n",
    "$\n",
    "\\;\\;\\;\\;C_D(\\alpha) = 1.1993 + 1.0938\\cos(0.0281\\alpha+3.1277)\n",
    "$\n",
    "<br>\n",
    "<br><br>\n",
    "$\n",
    "\\;\\;\\alpha \\geqslant 0:\n",
    "$\n",
    "<br>\n",
    "$\n",
    "\\;\\;\\;\\;C_L(\\alpha) = 0.0062 + 3.1684\\cos(0.0301\\alpha+4.7124)\n",
    "$\n",
    "<br>\n",
    "$\n",
    "\\;\\;\\;\\;C_D(\\alpha) = 8.3171 + 8.1909\\cos(0.0073\\alpha+3.1416)\n",
    "$\n",
    "<br><br>\n",
    "where $\\alpha$ is in `degrees` while the argument inside cosine is in `radians`.\n",
    "\n",
    "<br><br>\n",
    "<font color=\"purple\">The total force (vector sum) is \n",
    "<br><br>\n",
    "$\n",
    "\\mathbf{F_\\text{tot}} = \\mathbf{F_l} + \\mathbf{F_d} \\left ( + \\mathbf{F_r} + \\mathbf{F_a} \\right )\n",
    "$</font>\n",
    "<br><br>\n",
    "Note: In evaluating lift/weight and/or drag/thrust balance, it is useful to decompose the total force into the horizontal and vertical components."
   ]
  },
  {
   "cell_type": "markdown",
   "metadata": {},
   "source": [
    "### <font color=\"green\">Power</font>\n",
    "The power induced by the drag forces is computed by simple Newtonian physics:\n",
    "<br><br>\n",
    "$\n",
    "\\;\\;\\;\\;P_D = \\sum_e\\mathbf{F_d}\\cdot\\mathbf{u_e} = \\sum_e\\left \\| F_d \\right\\|\\left \\| u_e \\right\\|\n",
    "$\n",
    "<br><br>\n",
    "the second equality holds since the drag force is always parallel with the local velocity.\n",
    "<br><br>\n",
    "<font color=\"grey\">\n",
    "** _The formulae below are not used_ **\n",
    "<br>\n",
    "Drag (profile) power from quasi-steady model and actuator induced power:\n",
    "<br><br>\n",
    "(1) Profile Power (one wing):\n",
    "<br><br>\n",
    "$\n",
    "\\;\\;\\;\\;\\mathbf{P_P} \\equiv \\frac{16\\pi^3}{3}\\rho|\\hat{r_3}R|^3S\\overline{C_D}\\Phi^3f^3\n",
    "$\n",
    "<br><br>\n",
    "(2) Induced Power:\n",
    "<br><br>\n",
    "$\n",
    "\\;\\;\\;\\;\\mathbf{P_I} \\equiv \\kappa_1\\kappa_2\\sqrt{\\frac{W^3}{4\\rho\\Phi R^2}}\n",
    "$\n",
    "<br><br>\n",
    "where $S=\\pi c(0)R/4$, $\\Phi$ and $f$ are the wing area (see below), \n",
    "stroke amplitude (in radians) and flapping frequency (in Hertz), respectively.\n",
    "$W$ denotes the body weight in Newton.\n",
    "<br><br>\n",
    "The non-dimensional coefficients can be inserted, by assuming universality (adopted from hummingbirds, Ingersoll and Lentink, private communication): effective \"radius of gyration\" (of order 3) $\\hat{r_3}\\approx0.55$, corrections $\\kappa_1\\approx\\kappa_2\\approx1.2$, and the average drag coefficient (see also the justification in model [notebook](https://github.com/Mipanox/ME303/blob/master/dynamics/models.ipynb)) $\\overline{C_D}\\approx0.17$.\n",
    "<br><br>\n",
    "\n",
    "The total power is therefore (two wings plus one actuator):\n",
    "<br><br>\n",
    "$\n",
    "P_\\text{tot} = 2P_P+P_I\n",
    "$</font>"
   ]
  },
  {
   "cell_type": "markdown",
   "metadata": {},
   "source": [
    "---\n",
    "## <font color=\"blue\">Parameters</font>\n",
    "_(See also the model [notebook](https://github.com/Mipanox/ME303/blob/master/dynamics/models.ipynb) for assumptions)_<br>\n",
    "_(Note: All the numbers are justified based on the kinematics (see estimates [notebook](https://github.com/Mipanox/ME303/blob/master/others/estimates.ipynb))_"
   ]
  },
  {
   "cell_type": "code",
   "execution_count": 2,
   "metadata": {
    "collapsed": false
   },
   "outputs": [],
   "source": [
    "import numpy as np\n",
    "import pandas as pd\n",
    "from astropy import units as u\n",
    "import matplotlib.pyplot as plt\n",
    "%matplotlib inline"
   ]
  },
  {
   "cell_type": "code",
   "execution_count": 3,
   "metadata": {
    "collapsed": true
   },
   "outputs": [],
   "source": [
    "## read in parameters\n",
    "sho_df = pd.read_csv('../others/par_data/sho_par.csv')\n",
    "avo_df = pd.read_csv('../others/par_data/avo_par.csv')"
   ]
  },
  {
   "cell_type": "code",
   "execution_count": 4,
   "metadata": {
    "collapsed": false
   },
   "outputs": [
    {
     "data": {
      "text/html": [
       "<div style=\"max-height:1000px;max-width:1500px;overflow:auto;\">\n",
       "<table border=\"1\" class=\"dataframe\">\n",
       "  <thead>\n",
       "    <tr style=\"text-align: right;\">\n",
       "      <th></th>\n",
       "      <th>Unnamed: 0</th>\n",
       "      <th>vx_sf</th>\n",
       "      <th>vx_de</th>\n",
       "      <th>vx_ld</th>\n",
       "      <th>w_f</th>\n",
       "      <th>w_a</th>\n",
       "      <th>foot_ang</th>\n",
       "      <th>foot_len</th>\n",
       "    </tr>\n",
       "  </thead>\n",
       "  <tbody>\n",
       "    <tr>\n",
       "      <th>0</th>\n",
       "      <td>0</td>\n",
       "      <td>1434.8684</td>\n",
       "      <td>764.809273</td>\n",
       "      <td>89.894818</td>\n",
       "      <td>6.632416</td>\n",
       "      <td>21.709066</td>\n",
       "      <td>10</td>\n",
       "      <td>10</td>\n",
       "    </tr>\n",
       "  </tbody>\n",
       "</table>\n",
       "</div>"
      ],
      "text/plain": [
       "   Unnamed: 0      vx_sf       vx_de      vx_ld       w_f        w_a  \\\n",
       "0           0  1434.8684  764.809273  89.894818  6.632416  21.709066   \n",
       "\n",
       "   foot_ang  foot_len  \n",
       "0        10        10  "
      ]
     },
     "execution_count": 4,
     "metadata": {},
     "output_type": "execute_result"
    }
   ],
   "source": [
    "sho_df"
   ]
  },
  {
   "cell_type": "code",
   "execution_count": 5,
   "metadata": {
    "collapsed": false
   },
   "outputs": [
    {
     "data": {
      "text/html": [
       "<div style=\"max-height:1000px;max-width:1500px;overflow:auto;\">\n",
       "<table border=\"1\" class=\"dataframe\">\n",
       "  <thead>\n",
       "    <tr style=\"text-align: right;\">\n",
       "      <th></th>\n",
       "      <th>Unnamed: 0</th>\n",
       "      <th>vx_sf</th>\n",
       "      <th>vx_de</th>\n",
       "      <th>vx_ld</th>\n",
       "      <th>w_f</th>\n",
       "      <th>w_a</th>\n",
       "    </tr>\n",
       "  </thead>\n",
       "  <tbody>\n",
       "    <tr>\n",
       "      <th>0</th>\n",
       "      <td>0</td>\n",
       "      <td>638.215281</td>\n",
       "      <td>283.721562</td>\n",
       "      <td>13.27431</td>\n",
       "      <td>6.632416</td>\n",
       "      <td>21.709066</td>\n",
       "    </tr>\n",
       "  </tbody>\n",
       "</table>\n",
       "</div>"
      ],
      "text/plain": [
       "   Unnamed: 0       vx_sf       vx_de     vx_ld       w_f        w_a\n",
       "0           0  638.215281  283.721562  13.27431  6.632416  21.709066"
      ]
     },
     "execution_count": 5,
     "metadata": {},
     "output_type": "execute_result"
    }
   ],
   "source": [
    "avo_df"
   ]
  },
  {
   "cell_type": "markdown",
   "metadata": {},
   "source": [
    "---\n",
    "* Neglect forces exerted by body, tail, and feet (at the moment)\n",
    "* Each Wing is a half-ellipse, of which chord length is given by:\n",
    "<br><br>\n",
    "$\n",
    "\\;\\;\\;\\;c(r) = c(0)\\sqrt{1-\\left(\\frac{r}{R}\\right)^2}\n",
    "$\n",
    "<br><br>\n",
    "where $c(0)\\approx15$cm is the chord length at the shoulder (hence radius 0) and $R$ denotes the wingspan, \n",
    "which is taken to be $35$cm for both species (cf. full WS $\\approx 80$cm). \n",
    "So the wing area is half the ellipse area $=\\pi c(0)R/4$ since $c(0)/2$ and $R$ are the semi axes.\n",
    "<br><br>\n",
    "* Wing motion is sinusoidal with fixed frequency, amplitude, and rotational angle (with $45^\\circ$ at midstroke)\n",
    "<br><p style=\"text-indent: 30px\">`amplitude` $\\approx21.7$cm $\\approx0.62$rad\n",
    "<br><p style=\"text-indent: 30px\">`frequency` $\\approx6.63$Hz $\\approx41.7$rad/s"
   ]
  },
  {
   "cell_type": "markdown",
   "metadata": {},
   "source": [
    "### <font color=\"green\">Scenarios</font>\n",
    "The QS model is used for the steady flight (assumed to be of small advance ratio) phase before the bird starts to decelerate. Throughout, the body of the bird is treated as being aligned parallel to the horizontal, and aerodynamic torques are omitted in the discussion.\n",
    "<br>\n",
    "1. Avocet\n",
    "<br><p style=\"text-indent: 30px\">$v_\\text{body} \\approx 640$cm/s<br>\n",
    "2. Shoveler\n",
    "<br><p style=\"text-indent: 30px\">$v_\\text{body} \\approx 1400$cm/s<br>"
   ]
  },
  {
   "cell_type": "markdown",
   "metadata": {},
   "source": [
    "#### <font color=\"red\">Calculations</font>\n",
    "Define at time $t=0$, the wing starts a downstroke, with zero rotation.<br>\n",
    "Do the computation in one full stroke (downstroke plus upstroke)."
   ]
  },
  {
   "cell_type": "code",
   "execution_count": 6,
   "metadata": {
    "collapsed": false
   },
   "outputs": [],
   "source": [
    "## parameters\n",
    "### global\n",
    "#--- 200 time steps\n",
    "time_elapse = np.linspace(0.,1.,200)\n",
    "\n",
    "wing_w = float(sho_df['w_f']) * u.Hz\n",
    "wing_a = float(sho_df['w_a']) * u.cm"
   ]
  },
  {
   "cell_type": "code",
   "execution_count": 17,
   "metadata": {
    "collapsed": true
   },
   "outputs": [],
   "source": [
    "exec(open('../codes/qs.py').read())"
   ]
  },
  {
   "cell_type": "markdown",
   "metadata": {},
   "source": [
    "---\n",
    "### <font color=\"brown\">Some Supplementary Plots </font>"
   ]
  },
  {
   "cell_type": "markdown",
   "metadata": {},
   "source": [
    "** Lift/Drag Coefficients **"
   ]
  },
  {
   "cell_type": "code",
   "execution_count": 7,
   "metadata": {
    "collapsed": true
   },
   "outputs": [],
   "source": [
    "def lift_drag_coeff(alpha):\n",
    "    C_L,C_D = np.zeros(alpha.shape),np.zeros(alpha.shape)\n",
    "    \n",
    "    for (i,alp) in enumerate(alpha):\n",
    "        if alp >= 0:\n",
    "            a_L = 0.0301*alp+4.7124\n",
    "            a_D = 0.0073*alp+3.1416\n",
    "            C_L[i] = (0.0031 + 1.5842 * np.cos(a_L)) * 2\n",
    "            C_D[i] =  8.3171 + 8.1909 * np.cos(a_D)\n",
    "        else:\n",
    "            a_L = 0.0332*alp+4.6963\n",
    "            a_D = 0.0281*alp+3.1277\n",
    "            C_L[i] = (0.0028 + 1.1251 * np.cos(a_L)) * 2\n",
    "            C_D[i] =  1.1993 + 1.0938 * np.cos(a_D)\n",
    "        \n",
    "    return C_L, C_D"
   ]
  },
  {
   "cell_type": "code",
   "execution_count": 8,
   "metadata": {
    "collapsed": false
   },
   "outputs": [
    {
     "data": {
      "text/plain": [
       "<matplotlib.legend.Legend at 0x10ff99910>"
      ]
     },
     "execution_count": 8,
     "metadata": {},
     "output_type": "execute_result"
    },
    {
     "data": {
      "image/png": "[encoded data removed]",
      "text/plain": [
       "<matplotlib.figure.Figure at 0x1084ee610>"
      ]
     },
     "metadata": {},
     "output_type": "display_data"
    }
   ],
   "source": [
    "test_alpha = np.linspace(-90.,90.,200)\n",
    "test_cl,test_cd = lift_drag_coeff(alpha=test_alpha)\n",
    "plt.plot(test_alpha,test_cl,'b',label=r'$C_L$')\n",
    "plt.plot(test_alpha,test_cd,'g',label=r'$C_D$')\n",
    "plt.xlabel(r'$\\alpha$ (deg)'); plt.legend()"
   ]
  },
  {
   "cell_type": "markdown",
   "metadata": {},
   "source": [
    "** Angle of Attack: geometric v.s. effective **"
   ]
  },
  {
   "cell_type": "code",
   "execution_count": 9,
   "metadata": {
    "collapsed": false
   },
   "outputs": [
    {
     "data": {
      "text/plain": [
       "[<matplotlib.lines.Line2D at 0x1101e4390>]"
      ]
     },
     "execution_count": 9,
     "metadata": {},
     "output_type": "execute_result"
    },
    {
     "data": {
      "image/png": "[encoded data removed]",
      "text/plain": [
       "<matplotlib.figure.Figure at 0x110033b10>"
      ]
     },
     "metadata": {},
     "output_type": "display_data"
    }
   ],
   "source": [
    "tt = np.linspace(0.,1,1000)\n",
    "body_v = 100.\n",
    "wing_v = 2*np.pi*np.sin(2*np.pi*tt)*40 #omega r\n",
    "\n",
    "geo = 90-np.sin(2*np.pi*tt)*45\n",
    "cor = np.mod(90-np.rad2deg(np.arctan(wing_v / body_v)),180)\n",
    "\n",
    "plt.figure(figsize=(16,9))\n",
    "plt.subplot(121)\n",
    "plt.plot(tt,geo,'r',label='geometric')\n",
    "plt.plot(tt,cor,'g',label='correction')\n",
    "plt.plot(tt,geo-cor,'k',label='effective')\n",
    "plt.legend()\n",
    "\n",
    "plt.subplot(122)\n",
    "plt.plot(tt,wing_v)"
   ]
  },
  {
   "cell_type": "markdown",
   "metadata": {},
   "source": [
    "---\n",
    "*testing forces*"
   ]
  },
  {
   "cell_type": "code",
   "execution_count": 83,
   "metadata": {
    "collapsed": false
   },
   "outputs": [
    {
     "data": {
      "text/plain": [
       "[<matplotlib.lines.Line2D at 0x110031450>]"
      ]
     },
     "execution_count": 83,
     "metadata": {},
     "output_type": "execute_result"
    },
    {
     "data": {
      "image/png": "[encoded data removed]",
      "text/plain": [
       "<matplotlib.figure.Figure at 0x10ff25090>"
      ]
     },
     "metadata": {},
     "output_type": "display_data"
    }
   ],
   "source": [
    "test = QS(5.*u.Hz,20.*u.cm,15*u.cm,35*u.cm,body_v=50*u.cm/u.s)\n",
    "test_cl = test.lift_drag_coeff()[0]\n",
    "test_fl,test_fd = test.transl_forces()\n",
    "plt.plot(test_fl)\n",
    "plt.plot(test_fd)"
   ]
  },
  {
   "cell_type": "markdown",
   "metadata": {},
   "source": [
    "<font color=\"magenta\">neglect downstroke?</font>"
   ]
  },
  {
   "cell_type": "markdown",
   "metadata": {},
   "source": [
    "### <font color=\"red\">Results</font>"
   ]
  }
 ],
 "metadata": {
  "kernelspec": {
   "display_name": "Python 2",
   "language": "python",
   "name": "python2"
  },
  "language_info": {
   "codemirror_mode": {
    "name": "ipython",
    "version": 2
   },
   "file_extension": ".py",
   "mimetype": "text/x-python",
   "name": "python",
   "nbconvert_exporter": "python",
   "pygments_lexer": "ipython2",
   "version": "2.7.13"
  }
 },
 "nbformat": 4,
 "nbformat_minor": 0
}
