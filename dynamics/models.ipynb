{
 "cells": [
  {
   "cell_type": "markdown",
   "metadata": {},
   "source": [
    "# Models"
   ]
  },
  {
   "cell_type": "markdown",
   "metadata": {},
   "source": [
    "## <font color=\"blue\">Model Selection and Assumptions</font>\n",
    "In evaluating the aerodynamic and/or hydrodynamic forces/powers during landing (on water or not), I adopt the following models, to first-order approximation.\n",
    "\n",
    "### <font color=\"red\">Quasi-Steady Model</font>\n",
    "_References: Dickinson et al. [2008](http://arc.aiaa.org/doi/10.2514/1.29862); \n",
    "             Usherwood [2009](http://link.springer.com/article/10.1007%2Fs00348-008-0596-z); \n",
    "             Chin and Lentink [2016](http://jeb.biologists.org/content/219/7/920)_\n",
    "<br><br>\n",
    "** REGIME: ** Slow forward steady flight (with small advance ratio $< 0.1$) <br>\n",
    "** ASSUMPTIONS: ** As shown in the kinematics [notebook](https://github.com/Mipanox/ME303/blob/master/kinematics/kinematics.ipynb) and estimated in the dynamics [quick estimates](https://github.com/Mipanox/ME303/blob/master/dynamics/quick_estimate.ipynb), apparently the above criterion does NOT hold. I will nevertheless pretend it does.\n",
    "<br>\n",
    "* <font color=\"purple\">Universal Coefficients:</font>\n",
    "  Although the empirical aerodynamic coefficients ($C_L, C_D$) are measured for the _whole_ wing(s),\n",
    "  the convention in the literature is applied in the present study:<br><br>\n",
    "  Assume each wing segment obeys the same formulae - the wing is linearly decomposed into segments with \n",
    "  angle of attack $\\alpha$ varying as a function of \"rotating\" radius $r$.<br><br>\n",
    "  \n",
    "* <font color=\"purple\">No Unsteady Forces:</font>\n",
    "  For simplicity, I shall ignore the rotational effects, added mass, wing-wake interactions \n",
    "  and induced velocity effects.\n",
    "  Later I may demonstrate the validness of this assumption by proving that the unsteady forces are negligible.\n",
    "  <br><br>\n",
    "  \n",
    "* <font color=\"purple\">Sinusoidal Flight:</font>\n",
    "  In Phase I of the landing process, the bird is assumed to be flying steadily with sinusoidal strokes,\n",
    "  as well as sinusoidal variation of the geometric angel of attack, which maximizes at $45^\\circ$."
   ]
  },
  {
   "cell_type": "markdown",
   "metadata": {},
   "source": [
    "### <font color=\"red\">Planing Flat Plate</font>\n",
    "_References: Payne [1995](http://www.sciencedirect.com/science/article/pii/0029801894000334) \n",
    "             and references therein, specifically Savitsky 1964: Hydrodynamic Design of Planing Hulls (no website)_\n",
    "<br>\n",
    "> Planing theories are dedicated to marine technology development, in particular hull design.\n",
    "  While a hull has certain complex structures (deadrise angle, trim, chine, etc.),\n",
    "  the simplest case is a flat plate, parametrized by its aspect ratio, width (beam),\n",
    "  wetted length, elevation angle, and no more.\n",
    "  Here, the foot of the bird is approximated as such a flat plate, assuming no roughness.\n",
    "  \n",
    "<br>\n",
    "** REGIME: ** Smooth Flat Plate Moving at Constant Angle of Attack <br>\n",
    "** ASSUMPTIONS: ** As shown in the [notebook](https://github.com/Mipanox/ME303/blob/master/others/estimates.ipynb) for parameter estimates, the transition scale for the boundary layer to become turbulent is greater than the length of the foot. Hence, despite copying essentially all formulae in the marine literature, the friction drag coefficient is taken to be *laminar* instead.\n",
    "<br>\n",
    "* <font color=\"purple\">Constancy of Angle of Attack:</font>\n",
    "  It is rather difficult to get a precise estimate of the skiing angle of the bird,\n",
    "  and thus a range of values from $10^\\circ$ to $40^\\circ$ is used.\n",
    "  Note, however, that the empirical \"validation\" of the boat theories usually observes an\n",
    "  angle of attack less than $\\sim15^\\circ$.\n",
    "  \n",
    "* <font color=\"purple\">No Unsteady Forces:</font>\n",
    "  Again for simplicity, other possible contributions to the lift/drag forces such as\n",
    "  wakes and vortices shedding are omitted. I also assume absent aerodynamic forces.\n",
    "  <br><br>\n",
    "  \n",
    "* <font color=\"purple\">Neglect Center of Pressure:</font>\n",
    "  Since the foot size is so small as compared to the body ($<0.1$),\n",
    "  hydrodynamic forces are regarded as acting directly on the foot.\n",
    "  The torque thus generated is computed from the \"leg\", with respect to the centor of mass of the body"
   ]
  },
  {
   "cell_type": "code",
   "execution_count": null,
   "metadata": {
    "collapsed": true
   },
   "outputs": [],
   "source": []
  }
 ],
 "metadata": {
  "kernelspec": {
   "display_name": "Python 2",
   "language": "python",
   "name": "python2"
  },
  "language_info": {
   "codemirror_mode": {
    "name": "ipython",
    "version": 2
   },
   "file_extension": ".py",
   "mimetype": "text/x-python",
   "name": "python",
   "nbconvert_exporter": "python",
   "pygments_lexer": "ipython2",
   "version": "2.7.13"
  }
 },
 "nbformat": 4,
 "nbformat_minor": 0
}
