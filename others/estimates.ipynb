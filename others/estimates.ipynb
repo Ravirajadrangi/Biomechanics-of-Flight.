{
 "cells": [
  {
   "cell_type": "markdown",
   "metadata": {},
   "source": [
    "## Estimates\n",
    "Some justification of the assumptions for using formulae"
   ]
  },
  {
   "cell_type": "code",
   "execution_count": 2,
   "metadata": {
    "collapsed": false
   },
   "outputs": [],
   "source": [
    "import numpy as np\n",
    "from astropy import units as u\n",
    "from astropy import constants as c"
   ]
  },
  {
   "cell_type": "code",
   "execution_count": 25,
   "metadata": {
    "collapsed": false
   },
   "outputs": [],
   "source": [
    "## Flat plate planning (Savitsky 1964, Eqn (15))\n",
    "v_s = 1. * u.m/u.s # est. skiing speed\n",
    "b   = 7. * u.cm # 'beam' : width of foot\n",
    "lba = 1.5 # chord/beam aspect ratio\n",
    "chd = lba * b # chord length\n",
    "\n",
    "C_v = (v_s/np.sqrt(c.g0*b)).to(u.dimensionless_unscaled)\n",
    "Re_foot = (v_s*chd/nu_w).to(u.dimensionless_unscaled)"
   ]
  },
  {
   "cell_type": "code",
   "execution_count": 26,
   "metadata": {
    "collapsed": false
   },
   "outputs": [
    {
     "name": "stdout",
     "output_type": "stream",
     "text": [
      "1.20695378831 105000.0\n"
     ]
    }
   ],
   "source": [
    "print C_v, Re_foot"
   ]
  },
  {
   "cell_type": "code",
   "execution_count": 14,
   "metadata": {
    "collapsed": true
   },
   "outputs": [],
   "source": [
    "## boat parameters for check\n",
    "nu_w = 1e-6 * u.m**2/u.s # SI, kinematic viscosity\n",
    "v_bt = 10. * u.m/u.s\n",
    "L_bt = 20. * u.m\n",
    "\n",
    "Re_bt = (v_bt*L_bt/nu_w).to(u.dimensionless_unscaled)\n",
    "\n",
    "### Manson Table 9.3 (Schlichting 2000)\n",
    "C_Dl_bt = 1.328 / (Re_bt)**0.5 # laminar\n",
    "C_Dt_bt = 0.455 / np.log10(Re_bt)**2.58 # turbulent, smooth plate\n",
    "C_Ds_bt = 0.075 / (np.log10(Re_bt)-2)**2 # corrected Schoenherr formula (Granville 1977)"
   ]
  },
  {
   "cell_type": "code",
   "execution_count": 15,
   "metadata": {
    "collapsed": false
   },
   "outputs": [
    {
     "name": "stdout",
     "output_type": "stream",
     "text": [
      "200000000.0 9.39037805416e-05 0.00193486594168 0.00188902701705\n"
     ]
    }
   ],
   "source": [
    "print Re_bt, C_Dl_bt, C_Dt_bt, C_Ds_bt"
   ]
  },
  {
   "cell_type": "markdown",
   "metadata": {},
   "source": [
    "The Re is consistent (on magnitude-of-order) with the \"extreme\" ship from [wikipedia](https://en.wikipedia.org/wiki/Reynolds_number)\n",
    "<br><br>\n",
    "The last two agree quite well. We shall adopt one of the formulae for our \"foot plate\""
   ]
  },
  {
   "cell_type": "code",
   "execution_count": 24,
   "metadata": {
    "collapsed": false
   },
   "outputs": [],
   "source": [
    "## Onset of turbulent boundary layer\n",
    "Re_cri = 5e5 # (transition critical Re from Manson)"
   ]
  },
  {
   "cell_type": "code",
   "execution_count": 23,
   "metadata": {
    "collapsed": false
   },
   "outputs": [
    {
     "name": "stdout",
     "output_type": "stream",
     "text": [
      "50.0 cm\n"
     ]
    }
   ],
   "source": [
    "### transition length\n",
    "print (Re_cri*nu_w/v_s).to(u.cm)"
   ]
  },
  {
   "cell_type": "markdown",
   "metadata": {},
   "source": [
    "Apparently the feet are within laminar boundary layer regime. Therefore we shall use the first equation for C_D"
   ]
  },
  {
   "cell_type": "code",
   "execution_count": null,
   "metadata": {
    "collapsed": true
   },
   "outputs": [],
   "source": []
  }
 ],
 "metadata": {
  "kernelspec": {
   "display_name": "Python 2",
   "language": "python",
   "name": "python2"
  },
  "language_info": {
   "codemirror_mode": {
    "name": "ipython",
    "version": 2
   },
   "file_extension": ".py",
   "mimetype": "text/x-python",
   "name": "python",
   "nbconvert_exporter": "python",
   "pygments_lexer": "ipython2",
   "version": "2.7.13"
  }
 },
 "nbformat": 4,
 "nbformat_minor": 0
}
