{
 "cells": [
  {
   "cell_type": "markdown",
   "metadata": {},
   "source": [
    "# Crude Estimates of Aerodynamic Forces"
   ]
  },
  {
   "cell_type": "markdown",
   "metadata": {},
   "source": [
    "## <font color=\"blue\">Model</font>\n",
    "Quasi-Steady model - Decompose the aerodynamic force linearly into the following components:<br>\n",
    "(1) Translational lift force<br>\n",
    "(2) Translational drag force<br>\n",
    "(3) Rotational force<br>\n",
    "(4) Added mass force<br>\n",
    "\n",
    "<br>\n",
    "_(References: Dickinson+[2008](http://arc.aiaa.org/doi/10.2514/1.29862); Chin and Lentink [2016](http://jeb.biologists.org/content/219/7/920))_"
   ]
  },
  {
   "cell_type": "markdown",
   "metadata": {},
   "source": [
    "## <font color=\"blue\">Assumptions</font>\n",
    "<br>\n",
    "_(Note: All the numbers are based on the kinematics (see the kinematic [notebook](https://github.com/Mipanox/ME303/blob/master/kinematics/kinematics.ipynb))_\n",
    "<br>\n",
    "* Neglect forces exerted by body, tail, and feet (at the moment)\n",
    "* Wing is rectangular with aspect ratio of 2\n",
    "<br><p style=\"text-indent: 30px\">The half-wingspan (i.e. for a single wing) is taken to be $40$cm for both species. Hence the chord length is (uniformly) $20$cm.<br><br>\n",
    "* Wing motion is sinusoidal with fixed frequency and amplitude\n",
    "<br><p style=\"text-indent: 30px\">1. Avocet: `amplitude` $\\approx15$cm; `frequency` $\\approx5$Hz $\\approx30$rad/s\n",
    "<br><p style=\"text-indent: 30px\">2. Shoveler: `amplitude` $\\approx10$cm; `frequency` $\\approx4$Hz $\\approx24$rad/s"
   ]
  },
  {
   "cell_type": "markdown",
   "metadata": {},
   "source": [
    "### <font color=\"green\">Scenarios</font>\n",
    "Let's focus first on two scenarios during landing:\n",
    "1. Steady flight with body aligned parallel to the horizontal\n",
    "2. Stopping phase where the body (and so do the wings) is $\\theta$ degrees tilted w.r.t. the horizontal\n",
    "<br><p style=\"text-indent: 30px\">$\\theta\\approx60^\\circ$ and $\\approx20^\\circ$ for Avocet and Shoveler respectively.\n",
    "<br><p style=\"text-indent: 30px\">(Note: Assuming horizontal wind (or rest) velocity, this is also the angle of attack. Namely $\\alpha\\sim\\theta$"
   ]
  },
  {
   "cell_type": "code",
   "execution_count": 1,
   "metadata": {
    "collapsed": true
   },
   "outputs": [],
   "source": [
    "import numpy as np\n",
    "import pandas as pd\n",
    "import matplotlib.pyplot as plt\n",
    "%matplotlib inline"
   ]
  },
  {
   "cell_type": "code",
   "execution_count": null,
   "metadata": {
    "collapsed": true
   },
   "outputs": [],
   "source": [
    "## parameters\n",
    "### global\n",
    "time_elapse = 0.\n",
    "\n",
    "\n",
    "### Scenario 1\n",
    "\n",
    "### Scenario 2\n"
   ]
  },
  {
   "cell_type": "markdown",
   "metadata": {},
   "source": [
    "## <font color=\"Red\">Comparison with body motion</font>\n",
    "In the simplest approximation, we can quantify the dynamics of the bird by examining its body motion, in particular the acceleration. Upon comparing this with the estimated total forces above, **extra** forces that are required to match with the measurements can be deduced."
   ]
  },
  {
   "cell_type": "code",
   "execution_count": null,
   "metadata": {
    "collapsed": true
   },
   "outputs": [],
   "source": []
  }
 ],
 "metadata": {
  "kernelspec": {
   "display_name": "Python 2",
   "language": "python",
   "name": "python2"
  },
  "language_info": {
   "codemirror_mode": {
    "name": "ipython",
    "version": 2
   },
   "file_extension": ".py",
   "mimetype": "text/x-python",
   "name": "python",
   "nbconvert_exporter": "python",
   "pygments_lexer": "ipython2",
   "version": "2.7.13"
  }
 },
 "nbformat": 4,
 "nbformat_minor": 0
}
