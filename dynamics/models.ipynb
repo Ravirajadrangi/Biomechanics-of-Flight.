{
 "cells": [
  {
   "cell_type": "markdown",
   "metadata": {},
   "source": [
    "# Models\n",
    "> _If you cannot see the HTML rendering (e.g. colors), view this notebook [here](https://nbviewer.jupyter.org/github/Mipanox/ME303/blob/master/dynamics/models.ipynb)_"
   ]
  },
  {
   "cell_type": "markdown",
   "metadata": {},
   "source": [
    "## <font color=\"blue\">Model Selection and Assumptions</font>\n",
    "In evaluating the aerodynamic and/or hydrodynamic forces/powers during landing (on water or not), I adopt the following models, to first-order approximation. Three scenarios are considered: (1) Steady flight before landing (wings), (2) Slowing down to land (wings and/or skiing), (3) Water-skiing. Here, the avocet and the shoveler takes the (2) and (3) route, respectively in decelerating to land. We shall neglect the final phase of \"stopping\" (standing for avocet).\n",
    "\n",
    "Overall, body aerodynamics is ignored."
   ]
  },
  {
   "cell_type": "markdown",
   "metadata": {},
   "source": [
    "## <font color=\"green\">Forces</font>\n",
    "### <font color=\"red\">I - Quasi-Steady Model</font>\n",
    "_References: Dickinson et al. [2008](http://arc.aiaa.org/doi/10.2514/1.29862); \n",
    "             Usherwood [2009](http://link.springer.com/article/10.1007%2Fs00348-008-0596-z); \n",
    "             Chin and Lentink [2016](http://jeb.biologists.org/content/219/7/920)_\n",
    "<br><br>\n",
    "** REGIME: ** Slow forward steady flight (with small advance ratio $< 0.1$) <br>\n",
    "** ASSUMPTIONS: ** As shown in the kinematics [notebook](https://github.com/Mipanox/ME303/blob/master/kinematics/kinematics.ipynb) and estimated in the QS [quick estimates](https://github.com/Mipanox/ME303/blob/master/dynamics/quick_estimate.ipynb), apparently the above criterion does NOT hold. I will nevertheless pretend it does.\n",
    "<br>\n",
    "* <font color=\"purple\">Universal Coefficients:</font>\n",
    "  Although the empirical aerodynamic coefficients ($C_L, C_D$) are measured for the _whole_ wing(s),\n",
    "  the convention in the literature is applied in the present study:<br><br>\n",
    "  Assume each wing segment obeys the same formulae - the wing is linearly decomposed into segments with \n",
    "  angle of attack $\\alpha$ varying as a function of \"rotating\" radius $r$.<br><br>\n",
    "  \n",
    "* <font color=\"purple\">No Unsteady Forces:</font>\n",
    "  For simplicity, I shall ignore the rotational effects, added mass, wing-wake interactions \n",
    "  and induced velocity effects.\n",
    "  Later I may demonstrate the validness of this assumption by proving that the unsteady forces are negligible.\n",
    "  <br><br>\n",
    "  \n",
    "* <font color=\"purple\">Sinusoidal Flight:</font>\n",
    "  In Phase I of the landing process, the bird is assumed to be flying steadily with sinusoidal strokes,\n",
    "  as well as sinusoidal variation of the geometric angel of attack, which maximizes at $45^\\circ$.\n",
    "  More sophisticated profiles like trapezoids should not render qualitatively different conclusions.\n",
    "  One expects a factor of few uncertainty in general.\n",
    "  <br><br>\n",
    "  \n",
    "* <font color=\"purple\">Elliptical Wings:</font>\n",
    "  A common approximation to the wing shape is a half-ellipse. This has the advantage of \n",
    "  mathematical simpleness while not losing good-enough delineation of the true geometry.\n",
    "  <br><br>\n",
    "  \n",
    "* <font color=\"purple\">Ignored Upstroke:</font>\n",
    "  Due to complex wing morphing in the upstrokes, the QS model for hummingbirds \n",
    "  (specifically hovering flight) is no longer applicable. One anticipates that the upstrokes\n",
    "  do not contribute a lot because not only the wing area is greatly reduced (to avoid negative\n",
    "  lift), but also that the muscle power is much less."
   ]
  },
  {
   "cell_type": "markdown",
   "metadata": {},
   "source": [
    "### <font color=\"red\">II - Wing Brakes</font>\n",
    "_References: Provini et al. [2014](http://jeb.biologists.org/content/217/15/2659)_\n",
    "<br>\n",
    "> The cited paper provides motivation for assesing power consumptions. \n",
    "  The body orientation angle change as in my Avocet [video](https://github.com/Mipanox/ME303/blob/master/kinematics/videos/avocet.mp4) \n",
    "  is also observed in the two very different species.\n",
    "  \n",
    "<br>\n",
    "** REGIME: ** Non-flapping Wings With Extremely Large Angle of Attack  <br>\n",
    "** ASSUMPTIONS: ** The [kinematics](https://github.com/Mipanox/ME303/blob/master/kinematics/kinematics.ipynb) illustrates how the avocet \"stands up\" during landing while the shoveler hardly does that. The relatively complicated yet slow motions of the wings (in avocet case) suggest modeling them as \"stationary with high angle of attack\", where large means $>60^\\circ$ (in the shoveler case, contrarily, $\\alpha\\sim20^\\circ$); on the other hand, one may ignore entirely the irregular wiggling of the shoveler wings in the later period of skiing, leaving only hydrodynamic considerations (see below).\n",
    "<br>\n",
    "* <font color=\"purple\">Fixed Geometry/Orientation of the Wings:</font>\n",
    "  Determining the exact morphology of the wings in this phase could be challenging and unnecessary\n",
    "  in this pilot study. Hence, the wings are (effectively) a pair of half-ellipses oriented at some \n",
    "  $45^\\circ$ w.r.t. the vertical (or equally horizontal).<br><br>\n",
    "  \n",
    "* <font color=\"purple\">Simplest Aerodynamics:</font>\n",
    "  Because we are only interested in the braking here, why not get rid of the lift completely?\n",
    "  In other words, only drag is evaluated. \n",
    "  Based on the torque required for straighting the body (from kinematics), \n",
    "  we can get the center of pressure of the wings \n",
    "  (and therefore set constraints on the geometry ansatz above too).\n",
    "  But this should not change results and is not relevant to the goal."
   ]
  },
  {
   "cell_type": "markdown",
   "metadata": {},
   "source": [
    "### <font color=\"red\">III - Planing Flat Plate</font>\n",
    "_References: Payne [1995](http://www.sciencedirect.com/science/article/pii/0029801894000334) \n",
    "             and references therein, specifically Savitsky 1964: Hydrodynamic Design of Planing Hulls (no website)_\n",
    "<br>\n",
    "> Planing theories are dedicated to marine technology development, in particular hull design.\n",
    "  While a hull has certain complex structures (deadrise angle, trim, chine, etc.),\n",
    "  the simplest case is a flat plate, parametrized by its aspect ratio, width (beam),\n",
    "  wetted length, elevation angle, and no more.\n",
    "  Here, the foot of the bird is approximated as such a flat plate, assuming no roughness.\n",
    "  \n",
    "<br>\n",
    "** REGIME: ** Smooth Flat Plate Moving at Constant Angle of Attack <br>\n",
    "** ASSUMPTIONS: ** As shown in the [notebook](https://github.com/Mipanox/ME303/blob/master/others/estimates.ipynb) for parameter estimates, the transition scale for the boundary layer to become turbulent is greater than the length of the foot. Hence, despite copying essentially all formulae in the marine literature, the friction drag coefficient is taken to be *laminar* instead.\n",
    "<br>\n",
    "* <font color=\"purple\">Constancy of Angle of Attack:</font>\n",
    "  It is rather difficult to get a precise estimate of the skiing angle of the bird,\n",
    "  and thus a range of values from $10^\\circ$ to $40^\\circ$ is used.\n",
    "  Note, however, that the empirical \"validation\" of the boat theories usually observes an\n",
    "  angle of attack less than $\\sim15^\\circ$.<br><br>\n",
    "  \n",
    "* <font color=\"purple\">No Unsteady Forces:</font>\n",
    "  Again for simplicity, other possible contributions to the lift/drag forces such as\n",
    "  wakes and vortices shedding are omitted. I also assume absent aerodynamic forces.\n",
    "  <br><br>\n",
    "  \n",
    "* <font color=\"purple\">Neglect Center of Pressure:</font>\n",
    "  Since the foot size is so small as compared to the body ($<0.1$),\n",
    "  hydrodynamic forces are regarded as acting directly on the foot.\n",
    "  The torque thus generated is computed from the \"leg\", with respect to the centor of mass of the body"
   ]
  },
  {
   "cell_type": "markdown",
   "metadata": {},
   "source": [
    "---\n",
    "## <font color=\"green\">Power</font>\n",
    "### <font color=\"red\">I - Profile and Induced Powers</font>\n",
    "_References: Norberg [2012](http://www.springer.com/us/book/9783642838507); \n",
    "             Ingersoll and Lentink 2016 (private communication)_\n",
    "<br><br>\n",
    "** REGIME: ** Slow forward steady flight (with small advance ratio $< 0.1$) <br>\n",
    "** ASSUMPTIONS: ** The induced power takes into account the actuator disk lifing weight which models the flapping wings as helicopter blades (e.g., Leishman [2016](http://www.cambridge.org/us/academic/subjects/engineering/aerospace-engineering/principles-helicopter-aerodynamics-2nd-edition-1)). \n",
    "\n",
    "* <font color=\"purple\">Harmonic Strokes:</font>\n",
    "  As in the aerodynamics, sinusoidal wing strokes are assumed.\n",
    "  <br><br>\n",
    "  \n",
    "* <font color=\"purple\">Single Drag Coefficient:</font>\n",
    "  In contrast with the detailed empirical fit to the coefficients as functions of angle of attack,\n",
    "  a value of $C_D = 0.17$ is adopted, in consistent with the paper (Ingersoll and Lentink 2016; although the original data fit was for hummingbirds, it turned out that larger birds like pigeons have similar drag coefficients (e.g., Usherwood 2009))."
   ]
  },
  {
   "cell_type": "markdown",
   "metadata": {},
   "source": [
    "### <font color=\"red\">II & III - Fundamental of Dynamics</font>\n",
    "* <font color=\"purple\">Power Is Drag Times Mean Velocity:</font>\n",
    "  From the kinematics, we see a constant (negative) slope for the X velocity of the body,\n",
    "  impling fixed deceleration. The mean power is, thus, \n",
    "  the (constant) drag force times the mean velocity in the deceleration."
   ]
  },
  {
   "cell_type": "markdown",
   "metadata": {},
   "source": [
    "---\n",
    "## <font color=\"blue\">Setup</font>"
   ]
  },
  {
   "cell_type": "markdown",
   "metadata": {
    "collapsed": true
   },
   "source": [
    "equations see notebook...<br>\n",
    "see codes/...<br>\n",
    "see ./QS...<br><br>\n",
    "here quote results..."
   ]
  }
 ],
 "metadata": {
  "kernelspec": {
   "display_name": "Python 2",
   "language": "python",
   "name": "python2"
  },
  "language_info": {
   "codemirror_mode": {
    "name": "ipython",
    "version": 2
   },
   "file_extension": ".py",
   "mimetype": "text/x-python",
   "name": "python",
   "nbconvert_exporter": "python",
   "pygments_lexer": "ipython2",
   "version": "2.7.13"
  }
 },
 "nbformat": 4,
 "nbformat_minor": 0
}
